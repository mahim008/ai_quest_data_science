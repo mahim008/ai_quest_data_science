{
 "cells": [
  {
   "cell_type": "markdown",
   "id": "e7ffe339",
   "metadata": {},
   "source": [
    "Variable"
   ]
  },
  {
   "cell_type": "code",
   "execution_count": 3,
   "id": "6ed15961",
   "metadata": {},
   "outputs": [
    {
     "data": {
      "text/plain": [
       "'I love python'"
      ]
     },
     "execution_count": 3,
     "metadata": {},
     "output_type": "execute_result"
    }
   ],
   "source": [
    "#must not start with digit\n",
    "mahim8 = 'I love python'    \n",
    "mahim8                   #ok\n",
    "#blank spaces cannot be used\n",
    "mahim9 = 'I love python' \n",
    "mahim8                   #ok\n",
    "#keywords cannot be used, to use have to be modified\n",
    "ifit = 'I want to be a data scientist'\n",
    "ifit                    #ok"
   ]
  },
  {
   "cell_type": "code",
   "execution_count": null,
   "id": "0b6714ce",
   "metadata": {},
   "outputs": [],
   "source": [
    "8mahim = 'I love python'             #error\n",
    "mahim 8 = 'I love python'            #error\n",
    "if = 'I want to be a data scientist' #error"
   ]
  },
  {
   "cell_type": "markdown",
   "id": "be0fe8fb",
   "metadata": {},
   "source": [
    "If, else condition"
   ]
  },
  {
   "cell_type": "code",
   "execution_count": 7,
   "id": "faa38279",
   "metadata": {},
   "outputs": [],
   "source": [
    "pass_number = 33\n",
    "mynumber = 40\n",
    "result = \"\"\n",
    "if mynumber>pass_number:\n",
    "    result = \"Passed\"\n",
    "else:\n",
    "    result = \"Failed\""
   ]
  },
  {
   "cell_type": "code",
   "execution_count": 8,
   "id": "d1d8a27d",
   "metadata": {},
   "outputs": [
    {
     "data": {
      "text/plain": [
       "'Passed'"
      ]
     },
     "execution_count": 8,
     "metadata": {},
     "output_type": "execute_result"
    }
   ],
   "source": [
    "result"
   ]
  },
  {
   "cell_type": "markdown",
   "id": "b708b806",
   "metadata": {},
   "source": [
    "Loop"
   ]
  },
  {
   "cell_type": "code",
   "execution_count": 9,
   "id": "b77ce752",
   "metadata": {},
   "outputs": [
    {
     "name": "stdout",
     "output_type": "stream",
     "text": [
      "I love python.\n",
      "I love python.\n",
      "I love python.\n",
      "I love python.\n",
      "I love python.\n"
     ]
    }
   ],
   "source": [
    "for i in range(5):\n",
    "    print(\"I love python.\")"
   ]
  },
  {
   "cell_type": "code",
   "execution_count": 12,
   "id": "7a890d02",
   "metadata": {},
   "outputs": [
    {
     "name": "stdout",
     "output_type": "stream",
     "text": [
      "I love python\n",
      "I love python\n",
      "I love python\n",
      "I love python\n",
      "I love python\n"
     ]
    }
   ],
   "source": [
    "i = 0\n",
    "while(i<5):\n",
    "    print(\"I love python\")\n",
    "    i+=1"
   ]
  },
  {
   "cell_type": "code",
   "execution_count": null,
   "id": "b95289d3",
   "metadata": {},
   "outputs": [],
   "source": []
  }
 ],
 "metadata": {
  "kernelspec": {
   "display_name": "Python 3",
   "language": "python",
   "name": "python3"
  },
  "language_info": {
   "codemirror_mode": {
    "name": "ipython",
    "version": 3
   },
   "file_extension": ".py",
   "mimetype": "text/x-python",
   "name": "python",
   "nbconvert_exporter": "python",
   "pygments_lexer": "ipython3",
   "version": "3.8.8"
  }
 },
 "nbformat": 4,
 "nbformat_minor": 5
}
